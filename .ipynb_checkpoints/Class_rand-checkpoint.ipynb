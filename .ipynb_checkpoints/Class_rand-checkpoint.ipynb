{
 "cells": [
  {
   "cell_type": "code",
   "execution_count": null,
   "id": "06a37d10-9cee-49ff-b779-d42fdba5952d",
   "metadata": {},
   "outputs": [],
   "source": [
    "import numpy as np\n",
    "import random\n",
    "import matplotlib.pyplot as plt\n",
    "import time\n",
    "\n",
    "class  Molecule: # Setup of a molecule class\n",
    "    \n",
    "    def __init__(self, mol_len, atom_sequence = 0):\n",
    "        self.mol_len = mol_len\n",
    "        self.atom_sequence = atom_sequence\n",
    "        \n",
    "\n",
    "class Box: # The array within which the molecules will sit\n",
    "    def __init__(self, num_mols, density=1):\n",
    "        self.density = density\n",
    "        self.num_mols = num_mols\n",
    "\n",
    "    def box_size(self, num_mols, density=1):\n",
    "        box_length = np.ceil(np.sqrt(molecule_len / density)) \n",
    "        array = np.zeros((box_length,box_length))\n",
    "\n",
    "    def walk(self):\n",
    "        pass"
   ]
  }
 ],
 "metadata": {
  "kernelspec": {
   "display_name": "Python 3 (ipykernel)",
   "language": "python",
   "name": "python3"
  },
  "language_info": {
   "codemirror_mode": {
    "name": "ipython",
    "version": 3
   },
   "file_extension": ".py",
   "mimetype": "text/x-python",
   "name": "python",
   "nbconvert_exporter": "python",
   "pygments_lexer": "ipython3",
   "version": "3.11.0"
  }
 },
 "nbformat": 4,
 "nbformat_minor": 5
}
