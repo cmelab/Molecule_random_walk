{
 "cells": [
  {
   "cell_type": "code",
   "execution_count": 16,
   "id": "06a37d10-9cee-49ff-b779-d42fdba5952d",
   "metadata": {},
   "outputs": [
    {
     "ename": "TypeError",
     "evalue": "Box.__init__() missing 1 required positional argument: 'mol_len'",
     "output_type": "error",
     "traceback": [
      "\u001b[0;31m---------------------------------------------------------------------------\u001b[0m",
      "\u001b[0;31mTypeError\u001b[0m                                 Traceback (most recent call last)",
      "Cell \u001b[0;32mIn[16], line 26\u001b[0m\n\u001b[1;32m     23\u001b[0m         \u001b[38;5;28;01mpass\u001b[39;00m\n\u001b[1;32m     25\u001b[0m PPS \u001b[38;5;241m=\u001b[39m Molecule(\u001b[38;5;241m100\u001b[39m)\n\u001b[0;32m---> 26\u001b[0m box \u001b[38;5;241m=\u001b[39m \u001b[43mBox\u001b[49m\u001b[43m(\u001b[49m\u001b[38;5;241;43m2\u001b[39;49m\u001b[43m)\u001b[49m\n",
      "\u001b[0;31mTypeError\u001b[0m: Box.__init__() missing 1 required positional argument: 'mol_len'"
     ]
    }
   ],
   "source": [
    "import numpy as np\n",
    "import random\n",
    "import matplotlib.pyplot as plt\n",
    "import time\n",
    "\n",
    "class  Molecule: # Setup of a molecule class\n",
    "    \n",
    "    def __init__(self, mol_len, atom_sequence = 0):\n",
    "        self.mol_len = mol_len\n",
    "        self.atom_sequence = atom_sequence\n",
    "        \n",
    "\n",
    "class Box(Molecule): # The array within which the molecules will sit\n",
    "    \n",
    "    def __init__(self, num_mols, mol_len, density = 1): # Default density is 1 gram per cm^3\n",
    "        self.density = density\n",
    "        self.num_mols = num_mols\n",
    "        self.mol_len = super().__init__(mol_len)\n",
    "        box_length = np.ceil(np.sqrt(molecule_len / density)) # Calculates requisite box size\n",
    "\n",
    "    def walk(self):\n",
    "        \"\"\"Creates a path taken by a Monte-Carlo simulation to make a chain of atoms.\"\"\"\n",
    "        pass\n",
    "\n",
    "PPS = Molecule(100)\n",
    "box = Box(2)"
   ]
  }
 ],
 "metadata": {
  "kernelspec": {
   "display_name": "Python 3 (ipykernel)",
   "language": "python",
   "name": "python3"
  },
  "language_info": {
   "codemirror_mode": {
    "name": "ipython",
    "version": 3
   },
   "file_extension": ".py",
   "mimetype": "text/x-python",
   "name": "python",
   "nbconvert_exporter": "python",
   "pygments_lexer": "ipython3",
   "version": "3.11.0"
  }
 },
 "nbformat": 4,
 "nbformat_minor": 5
}
