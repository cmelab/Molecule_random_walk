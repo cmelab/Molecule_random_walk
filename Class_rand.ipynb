{
 "cells": [
  {
   "cell_type": "code",
   "execution_count": 12,
   "id": "06a37d10-9cee-49ff-b779-d42fdba5952d",
   "metadata": {},
   "outputs": [
    {
     "ename": "NameError",
     "evalue": "name 'num_mols' is not defined",
     "output_type": "error",
     "traceback": [
      "\u001b[0;31m---------------------------------------------------------------------------\u001b[0m",
      "\u001b[0;31mNameError\u001b[0m                                 Traceback (most recent call last)",
      "Cell \u001b[0;32mIn[12], line 52\u001b[0m\n\u001b[1;32m     47\u001b[0m             move \u001b[38;5;241m=\u001b[39m moves[random\u001b[38;5;241m.\u001b[39mrandint(\u001b[38;5;241m0\u001b[39m,\u001b[38;5;241m7\u001b[39m)]\n\u001b[1;32m     51\u001b[0m PPS \u001b[38;5;241m=\u001b[39m System(\u001b[38;5;241m100\u001b[39m,\u001b[38;5;241m2\u001b[39m)\n\u001b[0;32m---> 52\u001b[0m \u001b[43mPPS\u001b[49m\u001b[38;5;241;43m.\u001b[39;49m\u001b[43mwalk\u001b[49m\u001b[43m(\u001b[49m\u001b[43m)\u001b[49m\n",
      "Cell \u001b[0;32mIn[12], line 40\u001b[0m, in \u001b[0;36mSystem.walk\u001b[0;34m(self)\u001b[0m\n\u001b[1;32m     37\u001b[0m \u001b[38;5;28mself\u001b[39m\u001b[38;5;241m.\u001b[39marray \u001b[38;5;241m=\u001b[39m \u001b[38;5;28mself\u001b[39m\u001b[38;5;241m.\u001b[39marray\u001b[38;5;241m.\u001b[39mresize((box_length, box_length)) \u001b[38;5;66;03m# The 'box'\u001b[39;00m\n\u001b[1;32m     38\u001b[0m moves \u001b[38;5;241m=\u001b[39m np\u001b[38;5;241m.\u001b[39marray([[\u001b[38;5;241m1\u001b[39m,\u001b[38;5;241m0\u001b[39m],[\u001b[38;5;241m-\u001b[39m\u001b[38;5;241m1\u001b[39m,\u001b[38;5;241m0\u001b[39m],[\u001b[38;5;241m0\u001b[39m,\u001b[38;5;241m1\u001b[39m],[\u001b[38;5;241m0\u001b[39m,\u001b[38;5;241m-\u001b[39m\u001b[38;5;241m1\u001b[39m],[\u001b[38;5;241m1\u001b[39m,\u001b[38;5;241m1\u001b[39m],[\u001b[38;5;241m-\u001b[39m\u001b[38;5;241m1\u001b[39m,\u001b[38;5;241m1\u001b[39m],[\u001b[38;5;241m1\u001b[39m,\u001b[38;5;241m-\u001b[39m\u001b[38;5;241m1\u001b[39m],[\u001b[38;5;241m-\u001b[39m\u001b[38;5;241m1\u001b[39m,\u001b[38;5;241m-\u001b[39m\u001b[38;5;241m1\u001b[39m]]) \u001b[38;5;66;03m# Possible moves for the random walk\u001b[39;00m\n\u001b[0;32m---> 40\u001b[0m \u001b[38;5;28;01mfor\u001b[39;00m mol \u001b[38;5;129;01min\u001b[39;00m \u001b[43mnum_mols\u001b[49m:\n\u001b[1;32m     41\u001b[0m     path \u001b[38;5;241m=\u001b[39m []\n\u001b[1;32m     42\u001b[0m     position \u001b[38;5;241m=\u001b[39m np\u001b[38;5;241m.\u001b[39marray([random\u001b[38;5;241m.\u001b[39mrandint(\u001b[38;5;241m0\u001b[39m, box_length \u001b[38;5;241m-\u001b[39m \u001b[38;5;241m1\u001b[39m), random\u001b[38;5;241m.\u001b[39mrandint(\u001b[38;5;241m0\u001b[39m, box_length \u001b[38;5;241m-\u001b[39m \u001b[38;5;241m1\u001b[39m)])\n",
      "\u001b[0;31mNameError\u001b[0m: name 'num_mols' is not defined"
     ]
    }
   ],
   "source": [
    "import numpy as np\n",
    "import random\n",
    "import matplotlib.pyplot as plt\n",
    "import time\n",
    "\n",
    "class System: # The array within which the molecules will sit\n",
    "    \n",
    "    def __init__(self, mol_len, num_mols, atom_sequence = 0, density = 1): # Default density is 1 gram per cm^3\n",
    "        self.mol_len = mol_len\n",
    "        self.num_mols = num_mols\n",
    "        self.atom_sequence = atom_sequence\n",
    "        self.density = density\n",
    "        self.all_paths = []\n",
    "        self.sys_hist = []\n",
    "        self.array = np.array([0,0])\n",
    "\n",
    "    def save(self, array, sys_state, ):\n",
    "        \"\"\"Saves the system such that it can be rolled back.\"\"\"\n",
    "        sys_state = np.copy(array)\n",
    "        self.sys_hist.append(sys_state)\n",
    "        \n",
    "        return sys_state\n",
    "\n",
    "    def undo(self):\n",
    "        \"\"\"Returns system state back to before the random moves were made.\"\"\"\n",
    "        self.array = sys_state\n",
    "        return array\n",
    "\n",
    "    def mega_undo(self, array, sys_state):\n",
    "        \"\"\"Reverts system state back to a previous version.\"\"\"\n",
    "        self.sys_state = self.sys_hist[-1]\n",
    "        self.array = self.sys_state\n",
    "        self.sys_hist = self.sys_hist[:-1]\n",
    "    \n",
    "    def walk(self):\n",
    "        \"\"\"Creates a path taken by a Monte-Carlo simulation to make a chain of atoms.\"\"\"\n",
    "        box_length = int(np.ceil(np.sqrt(self.mol_len / self.density))) # Calculates requisite box size\n",
    "        self.array = self.array.resize((box_length, box_length)) # The 'box'\n",
    "        moves = np.array([[1,0],[-1,0],[0,1],[0,-1],[1,1],[-1,1],[1,-1],[-1,-1]]) # Possible moves for the random walk\n",
    "        \n",
    "        for mol in self.num_mols:\n",
    "            path = []\n",
    "            position = np.array([random.randint(0, box_length - 1), random.randint(0, box_length - 1)])\n",
    "            self.array[position[0], position[1]] = 1\n",
    "            path.append(position.tolist())\n",
    "            i = 0 # Count of atoms placed\n",
    "            j = 0 # Count of rejected moves\n",
    "            move = moves[random.randint(0,7)]\n",
    "            \n",
    "    \n",
    "\n",
    "PPS = System(100,2)\n",
    "PPS.walk()"
   ]
  }
 ],
 "metadata": {
  "kernelspec": {
   "display_name": "Python 3 (ipykernel)",
   "language": "python",
   "name": "python3"
  },
  "language_info": {
   "codemirror_mode": {
    "name": "ipython",
    "version": 3
   },
   "file_extension": ".py",
   "mimetype": "text/x-python",
   "name": "python",
   "nbconvert_exporter": "python",
   "pygments_lexer": "ipython3",
   "version": "3.11.0"
  }
 },
 "nbformat": 4,
 "nbformat_minor": 5
}
